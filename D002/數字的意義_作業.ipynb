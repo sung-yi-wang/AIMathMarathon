{
 "cells": [
  {
   "cell_type": "markdown",
   "id": "8f988847-fe7e-4c9b-84b3-31e477555d2b",
   "metadata": {},
   "source": [
    "作業目標 : 了解數字與符號的應用。\n",
    "\n",
    "作業題目 : 若想以中括號分別表示 5 個類別，如何做到。(提示 : one-hot encoding)"
   ]
  },
  {
   "cell_type": "code",
   "execution_count": 1,
   "id": "49011914-7af7-42a9-8b3e-5ddc44ccf06c",
   "metadata": {},
   "outputs": [],
   "source": [
    "# 解答\n",
    "cla_1 = [ 1, 0, 0, 0, 0]\n",
    "cla_2 = [ 0, 1, 0, 0, 0]\n",
    "cla_3 = [ 0, 0, 1, 0, 0]\n",
    "cla_4 = [ 0, 0, 0, 1, 0]\n",
    "cla_5 = [ 0, 0, 0, 0, 1]"
   ]
  },
  {
   "cell_type": "code",
   "execution_count": null,
   "id": "7b24cfcf",
   "metadata": {},
   "outputs": [],
   "source": []
  }
 ],
 "metadata": {
  "kernelspec": {
   "display_name": "Python 3 (ipykernel)",
   "language": "python",
   "name": "python3"
  },
  "language_info": {
   "codemirror_mode": {
    "name": "ipython",
    "version": 3
   },
   "file_extension": ".py",
   "mimetype": "text/x-python",
   "name": "python",
   "nbconvert_exporter": "python",
   "pygments_lexer": "ipython3",
   "version": "3.9.13"
  }
 },
 "nbformat": 4,
 "nbformat_minor": 5
}
