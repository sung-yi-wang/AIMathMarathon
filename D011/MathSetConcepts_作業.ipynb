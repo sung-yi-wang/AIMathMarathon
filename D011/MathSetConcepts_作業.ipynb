{
 "cells": [
  {
   "cell_type": "markdown",
   "metadata": {
    "id": "iTChO6IaBZIK"
   },
   "source": [
    "(1) 用列舉法寫出下面的集合：\n",
    "(a)A={x|x^2−9x+20=0} (b)B={m/n|m,n∈N 且 m+n=5} \n",
    "\n",
    "(2) 設 A={1，{1}，{2}，{1,2}}，則下列那些是正確的？\n",
    "(A){1}∈A (B){1}⊂A (C)2∈A (D){1,2}⊂A (E){1,2}∈A。\n",
    "\n",
    "(3) 設 S={φ，1，{1,2}，3}，則下列那些是正確的？\n",
    "\n",
    "(A) φ∈S (B)φ⊂S (C)2∈S (D){1,2}∈S (E){1,2,3}⊂S。\n",
    "\n",
    "(4) 設 A={x,y,z}，B={x+1,2,3}，若 A=B，則有序數對(x,y,z)共有幾組？\n",
    "\n",
    "(5) 設 A 集合有 7 個元素，B 集合有 5 個元素，則(1) A∩ B 至多有幾個元素？(2) \n",
    "A∩ B 至少有幾個元素？\n",
    "\n"
   ]
  },
  {
   "cell_type": "markdown",
   "metadata": {},
   "source": [
    "```\n",
    "解答：\n",
    "(1)\n",
    "  (a) A = {4, 5}\n",
    "  (b) B = {1/4, 2/3, 3/2, 4/1}\n",
    "(2) A, B, E\n",
    "(3) A, B, D\n",
    "(4)\n",
    "  5組 => (2, 2, 3), (2, 3, 2), (2, 3, 3), (3, 2, 4), (3, 4, 2)\n",
    "(5) 最多5個，最少0個\n",
    "```"
   ]
  },
  {
   "cell_type": "code",
   "execution_count": null,
   "metadata": {},
   "outputs": [],
   "source": []
  }
 ],
 "metadata": {
  "colab": {
   "authorship_tag": "ABX9TyOb9FsZ/CKzypc9uokpnEmq",
   "name": "MathSetConcepts_作業.ipynb",
   "provenance": []
  },
  "kernelspec": {
   "display_name": "Python 3 (ipykernel)",
   "language": "python",
   "name": "python3"
  },
  "language_info": {
   "codemirror_mode": {
    "name": "ipython",
    "version": 3
   },
   "file_extension": ".py",
   "mimetype": "text/x-python",
   "name": "python",
   "nbconvert_exporter": "python",
   "pygments_lexer": "ipython3",
   "version": "3.9.13"
  }
 },
 "nbformat": 4,
 "nbformat_minor": 1
}
