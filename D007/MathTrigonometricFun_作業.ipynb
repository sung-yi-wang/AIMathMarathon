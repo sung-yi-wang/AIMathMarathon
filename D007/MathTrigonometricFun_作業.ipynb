{
 "cells": [
  {
   "cell_type": "markdown",
   "metadata": {
    "id": "nVr9-Pm_UF8N"
   },
   "source": [
    "# **三角函數程式作業**\n",
    "\n",
    "在這個作業，我們要計算\n",
    "1.求正弦(Sin()) pi/4 與餘弦(Cos()) pi/3 的值\n",
    "\n",
    "2.求 正切(Tan()) pi/4 與三角形短邊各為5, 12 之之長邊(Hypot())\n",
    "\n",
    "3.弧度 pi/4 與角度 45度的換算\n",
    "\n",
    "首先是正弦與餘弦"
   ]
  },
  {
   "cell_type": "code",
   "execution_count": 2,
   "metadata": {
    "colab": {
     "base_uri": "https://localhost:8080/"
    },
    "executionInfo": {
     "elapsed": 330,
     "status": "ok",
     "timestamp": 1635576569729,
     "user": {
      "displayName": "Paul Chen",
      "photoUrl": "https://lh3.googleusercontent.com/a/default-user=s64",
      "userId": "15113937160468943492"
     },
     "user_tz": -480
    },
    "id": "BlHiUbt9UJ4b",
    "outputId": "e8bb5002-863b-406e-a4c3-9dea543eff37"
   },
   "outputs": [
    {
     "name": "stdout",
     "output_type": "stream",
     "text": [
      "The value of sine of pi/4 is : 0.7071067811865475\n",
      "The value of cosine of pi/3 is : 0.5000000000000001\n"
     ]
    }
   ],
   "source": [
    "# 正弦與餘弦 Python code：sin() 和 cos()\n",
    "   \n",
    "# 載入 \"math\" 數學程式庫\n",
    "import math\n",
    "  \n",
    "a = math.pi/4\n",
    "b = math.pi/3   \n",
    "# 求  pi/4 的正弦值\n",
    "print(f'The value of sine of pi/4 is : {math.sin(a)}')\n",
    "   \n",
    "# 求  pi/3 的餘弦值\n",
    "print(f'The value of cosine of pi/3 is : {math.cos(b)}')"
   ]
  },
  {
   "cell_type": "markdown",
   "metadata": {
    "id": "iH2SCE8iVNd9"
   },
   "source": [
    "求tan()正切值值 與 hypot()長邊值"
   ]
  },
  {
   "cell_type": "code",
   "execution_count": 3,
   "metadata": {
    "colab": {
     "base_uri": "https://localhost:8080/"
    },
    "executionInfo": {
     "elapsed": 304,
     "status": "ok",
     "timestamp": 1635576783056,
     "user": {
      "displayName": "Paul Chen",
      "photoUrl": "https://lh3.googleusercontent.com/a/default-user=s64",
      "userId": "15113937160468943492"
     },
     "user_tz": -480
    },
    "id": "haNOWmkpUDQ-",
    "outputId": "55287222-651a-4108-fb19-5bcabc48b333"
   },
   "outputs": [
    {
     "name": "stdout",
     "output_type": "stream",
     "text": [
      "The value of tangent of pi/4 is : 0.9999999999999999\n",
      "The value of hypotenuse of 5 and 12 is : 13.0\n"
     ]
    }
   ],
   "source": [
    "# 用Python 執行執行\n",
    "# tan() 和 hypot()\n",
    "   \n",
    "# 載入 \"math\" 數學程式庫\n",
    "import math\n",
    "  \n",
    "a = math.pi/4\n",
    "b = 5\n",
    "c = 12\n",
    "   \n",
    "# 求  pi/4 的正切值\n",
    "print(f'The value of tangent of pi/4 is : {math.tan(a)}')\n",
    "   \n",
    "# 求短邊為 5 and 12 三角形的長邊值\n",
    "print(f'The value of hypotenuse of 5 and 12 is : {math.hypot(5, 12)}')"
   ]
  },
  {
   "cell_type": "markdown",
   "metadata": {
    "id": "889OeVFBU2Bu"
   },
   "source": [
    "角度與弧度的換算"
   ]
  },
  {
   "cell_type": "code",
   "execution_count": 4,
   "metadata": {
    "colab": {
     "base_uri": "https://localhost:8080/"
    },
    "executionInfo": {
     "elapsed": 384,
     "status": "ok",
     "timestamp": 1635576968973,
     "user": {
      "displayName": "Paul Chen",
      "photoUrl": "https://lh3.googleusercontent.com/a/default-user=s64",
      "userId": "15113937160468943492"
     },
     "user_tz": -480
    },
    "id": "EbpYCqAUUytz",
    "outputId": "933b29a7-972e-471f-d2df-56af3566fa98"
   },
   "outputs": [
    {
     "name": "stdout",
     "output_type": "stream",
     "text": [
      "The converted value from radians to degrees is : 45.0\n",
      "The converted value from degrees to radians is : 0.7853981633974483\n"
     ]
    }
   ],
   "source": [
    "# 用Python 計算 \n",
    "# degrees() 和 radians()\n",
    "   \n",
    "# 載入 \"math\" 數學程式庫\n",
    "import math\n",
    "   \n",
    "a = math.pi/4\n",
    "b = 45\n",
    "  \n",
    "# 將弧度轉換為角度\n",
    "print(f'The converted value from radians to degrees is : {math.degrees(a)}')\n",
    "   \n",
    "# 將角度轉換為弧度\n",
    "print(f'The converted value from degrees to radians is : {math.radians(b)}')"
   ]
  },
  {
   "cell_type": "code",
   "execution_count": null,
   "metadata": {},
   "outputs": [],
   "source": []
  }
 ],
 "metadata": {
  "colab": {
   "authorship_tag": "ABX9TyMDM9ldpn5Xzsrb+i7565T5",
   "name": "MathTrigonometricFun_作業.ipynb",
   "provenance": [
    {
     "file_id": "1fuC17AsmhyMZ8aPZz4WCy_iCagezHD4l",
     "timestamp": 1635577027776
    },
    {
     "file_id": "1L-1OHlJ_zSHX3Sp9YGpH7jJrUH4cDIgC",
     "timestamp": 1635576064453
    }
   ]
  },
  "kernelspec": {
   "display_name": "Python 3 (ipykernel)",
   "language": "python",
   "name": "python3"
  },
  "language_info": {
   "codemirror_mode": {
    "name": "ipython",
    "version": 3
   },
   "file_extension": ".py",
   "mimetype": "text/x-python",
   "name": "python",
   "nbconvert_exporter": "python",
   "pygments_lexer": "ipython3",
   "version": "3.9.13"
  }
 },
 "nbformat": 4,
 "nbformat_minor": 1
}
