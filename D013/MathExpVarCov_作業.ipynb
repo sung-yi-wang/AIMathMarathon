{
 "cells": [
  {
   "cell_type": "markdown",
   "metadata": {
    "id": "D78sSyCC2dHJ"
   },
   "source": [
    "作業1：求陣列([1,2,3,4,5,6,7]平均值(期望值)"
   ]
  },
  {
   "cell_type": "code",
   "execution_count": 1,
   "metadata": {
    "colab": {
     "base_uri": "https://localhost:8080/"
    },
    "executionInfo": {
     "elapsed": 17,
     "status": "ok",
     "timestamp": 1637985030396,
     "user": {
      "displayName": "Paul Chen",
      "photoUrl": "https://lh3.googleusercontent.com/a/default-user=s64",
      "userId": "15113937160468943492"
     },
     "user_tz": -480
    },
    "id": "n-IOtST72McJ",
    "outputId": "74b431a3-2d75-43e9-dc00-8fc2f4f9d342"
   },
   "outputs": [
    {
     "name": "stdout",
     "output_type": "stream",
     "text": [
      "[1 2 3 4 5 6 7]\n",
      "4.0\n"
     ]
    }
   ],
   "source": [
    "from numpy import array\n",
    "from numpy import mean\n",
    "v = array([1,2,3,4,5,6,7])\n",
    "print(v)\n",
    "result = mean(v)\n",
    "print(result)"
   ]
  },
  {
   "cell_type": "markdown",
   "metadata": {
    "id": "X0DibkF_3fFc"
   },
   "source": [
    "作業2：求以下二維矩陣行與列的平均值"
   ]
  },
  {
   "cell_type": "code",
   "execution_count": 3,
   "metadata": {
    "colab": {
     "base_uri": "https://localhost:8080/"
    },
    "executionInfo": {
     "elapsed": 329,
     "status": "ok",
     "timestamp": 1637985174096,
     "user": {
      "displayName": "Paul Chen",
      "photoUrl": "https://lh3.googleusercontent.com/a/default-user=s64",
      "userId": "15113937160468943492"
     },
     "user_tz": -480
    },
    "id": "suQNnGIR3XLM",
    "outputId": "e3796ae3-9352-4306-bd58-365e3f0ef197"
   },
   "outputs": [
    {
     "name": "stdout",
     "output_type": "stream",
     "text": [
      "[[1 2 3 4 5 6]\n",
      " [6 5 4 3 2 1]]\n",
      "行平均：\n",
      "[3.5 3.5 3.5 3.5 3.5 3.5]\n",
      "列平均：\n",
      "[3.5 3.5]\n"
     ]
    }
   ],
   "source": [
    "from numpy import array\n",
    "from numpy import mean\n",
    "M = array([[1,2,3,4,5,6],[6,5,4,3,2,1]])\n",
    "print(M)\n",
    "col_mean = mean(M, axis=0)\n",
    "print(\"行平均：\")\n",
    "print(col_mean)\n",
    "row_mean = mean(M, axis=1)\n",
    "print(\"列平均：\")\n",
    "print(row_mean)"
   ]
  },
  {
   "cell_type": "markdown",
   "metadata": {
    "id": "LNw_RkJV5HbU"
   },
   "source": [
    "作業3：求以下向量變異數(方差)"
   ]
  },
  {
   "cell_type": "code",
   "execution_count": 7,
   "metadata": {
    "colab": {
     "base_uri": "https://localhost:8080/"
    },
    "executionInfo": {
     "elapsed": 323,
     "status": "ok",
     "timestamp": 1637985299752,
     "user": {
      "displayName": "Paul Chen",
      "photoUrl": "https://lh3.googleusercontent.com/a/default-user=s64",
      "userId": "15113937160468943492"
     },
     "user_tz": -480
    },
    "id": "zhnl5Zjy4C8e",
    "outputId": "332045af-c099-415a-bb34-a0ef0e96c88f"
   },
   "outputs": [
    {
     "name": "stdout",
     "output_type": "stream",
     "text": [
      "[ 1  3  5  7  9 11]\n",
      "變異數\n",
      "14.0\n"
     ]
    }
   ],
   "source": [
    "from numpy import array\n",
    "from numpy import var\n",
    "v = array([1,3,5,7,9,11])\n",
    "print(v)\n",
    "result = var(v, ddof=1)\n",
    "print(\"變異數\")\n",
    "print(result)"
   ]
  },
  {
   "cell_type": "markdown",
   "metadata": {
    "id": "_58xq-Sy5swi"
   },
   "source": [
    "作業4：計算以下陣列行標準差與列標準差"
   ]
  },
  {
   "cell_type": "code",
   "execution_count": 8,
   "metadata": {
    "colab": {
     "base_uri": "https://localhost:8080/"
    },
    "executionInfo": {
     "elapsed": 311,
     "status": "ok",
     "timestamp": 1637985341640,
     "user": {
      "displayName": "Paul Chen",
      "photoUrl": "https://lh3.googleusercontent.com/a/default-user=s64",
      "userId": "15113937160468943492"
     },
     "user_tz": -480
    },
    "id": "FR7KDTTN5TTm",
    "outputId": "3bdfe322-4328-4a5f-ca51-ccc5cfcb106e"
   },
   "outputs": [
    {
     "name": "stdout",
     "output_type": "stream",
     "text": [
      "[[1 2 3 4 5 6]\n",
      " [6 5 4 3 2 1]]\n",
      "[3.53553391 2.12132034 0.70710678 0.70710678 2.12132034 3.53553391]\n",
      "[1.87082869 1.87082869]\n"
     ]
    }
   ],
   "source": [
    "from numpy import array\n",
    "from numpy import std\n",
    "M = array([[1,2,3,4,5,6],[6,5,4,3,2,1]])\n",
    "print(M)\n",
    "col_mean = std(M, ddof=1, axis=0)\n",
    "print(col_mean)\n",
    "row_mean = std(M, ddof=1, axis=1)\n",
    "print(row_mean)"
   ]
  },
  {
   "cell_type": "markdown",
   "metadata": {
    "id": "ja5adSK46Y9m"
   },
   "source": [
    "作業5：求以下陣列協方差"
   ]
  },
  {
   "cell_type": "code",
   "execution_count": 9,
   "metadata": {
    "colab": {
     "base_uri": "https://localhost:8080/"
    },
    "executionInfo": {
     "elapsed": 315,
     "status": "ok",
     "timestamp": 1637987966969,
     "user": {
      "displayName": "Paul Chen",
      "photoUrl": "https://lh3.googleusercontent.com/a/default-user=s64",
      "userId": "15113937160468943492"
     },
     "user_tz": -480
    },
    "id": "-ygAGtrB56x3",
    "outputId": "c1e114df-42b9-4ac4-8214-3ad544e44902"
   },
   "outputs": [
    {
     "name": "stdout",
     "output_type": "stream",
     "text": [
      "[1 2 3 4 5 6 7 8 9]\n",
      "[4 3 2 1 9 8 7 6 5]\n",
      "兩向量協方差\n",
      "3.75\n"
     ]
    }
   ],
   "source": [
    "from numpy import array\n",
    "from numpy import cov\n",
    "x = array([1,2,3,4,5,6,7,8,9])\n",
    "print(x)\n",
    "y = array([4,3,2,1,9,8,7,6,5])\n",
    "print(y)\n",
    "Sigma = cov(x, y)[0, 1]\n",
    "print(\"兩向量協方差\")\n",
    "print(Sigma)"
   ]
  },
  {
   "cell_type": "markdown",
   "metadata": {
    "id": "K78vSOnJ6xNS"
   },
   "source": [
    "作業6：求下列兩向量相關係數"
   ]
  },
  {
   "cell_type": "code",
   "execution_count": 10,
   "metadata": {
    "colab": {
     "base_uri": "https://localhost:8080/"
    },
    "executionInfo": {
     "elapsed": 457,
     "status": "ok",
     "timestamp": 1637987933447,
     "user": {
      "displayName": "Paul Chen",
      "photoUrl": "https://lh3.googleusercontent.com/a/default-user=s64",
      "userId": "15113937160468943492"
     },
     "user_tz": -480
    },
    "id": "xJZufyAo6rS3",
    "outputId": "eda6b50f-7bd8-481f-a21d-309d4eb7388c"
   },
   "outputs": [
    {
     "name": "stdout",
     "output_type": "stream",
     "text": [
      "[1 2 3 4 5 6 7 8 9]\n",
      "[4 3 2 1 9 8 7 6 5]\n",
      "[[1.  0.5]\n",
      " [0.5 1. ]]\n"
     ]
    }
   ],
   "source": [
    "from numpy import array\n",
    "from numpy import corrcoef\n",
    "x = array([1,2,3,4,5,6,7,8,9])\n",
    "print(x)\n",
    "y = array([4,3,2,1,9,8,7,6,5])\n",
    "print(y)\n",
    "Sigma = corrcoef(x, y)\n",
    "print(Sigma)"
   ]
  },
  {
   "cell_type": "code",
   "execution_count": null,
   "metadata": {},
   "outputs": [],
   "source": []
  }
 ],
 "metadata": {
  "colab": {
   "authorship_tag": "ABX9TyNPjSSdf4ycvrp9Xaq2znS/",
   "name": "MathExpVarCov_作業.ipynb",
   "provenance": [
    {
     "file_id": "15rYACQgrRzxoUKNPMBzSdX6lHpbjQoIy",
     "timestamp": 1637988143111
    },
    {
     "file_id": "1vqBpYGkylK4JOOfTCnUatyLL1XuGP8DX",
     "timestamp": 1637984857889
    }
   ]
  },
  "kernelspec": {
   "display_name": "Python 3 (ipykernel)",
   "language": "python",
   "name": "python3"
  },
  "language_info": {
   "codemirror_mode": {
    "name": "ipython",
    "version": 3
   },
   "file_extension": ".py",
   "mimetype": "text/x-python",
   "name": "python",
   "nbconvert_exporter": "python",
   "pygments_lexer": "ipython3",
   "version": "3.9.13"
  }
 },
 "nbformat": 4,
 "nbformat_minor": 1
}
