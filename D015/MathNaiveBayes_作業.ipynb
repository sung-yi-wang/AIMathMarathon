{
 "cells": [
  {
   "cell_type": "markdown",
   "metadata": {
    "id": "nYAKrtVelas-"
   },
   "source": [
    "Q: 教室裡有24人，8人熱愛運動，14人是男生，男生且熱愛運動有5人，假設某A喜歡運動，此人為男生的機率是多少？"
   ]
  },
  {
   "cell_type": "markdown",
   "metadata": {
    "id": "LnqRtf65kXd7"
   },
   "source": [
    "A：  \n",
    "P(男生|熱愛運動) = P(男生, 熱愛運動) / P(熱愛運動) = 5/8"
   ]
  },
  {
   "cell_type": "code",
   "execution_count": null,
   "metadata": {},
   "outputs": [],
   "source": []
  }
 ],
 "metadata": {
  "colab": {
   "authorship_tag": "ABX9TyMcbvD16otdGA7KtnblgfOA",
   "name": "MathNaiveBayes_作業.ipynb",
   "provenance": [
    {
     "file_id": "1TSX0Io-wbsba6ULpr4i2HygaEc9HsQIr",
     "timestamp": 1635755075705
    }
   ]
  },
  "kernelspec": {
   "display_name": "Python 3 (ipykernel)",
   "language": "python",
   "name": "python3"
  },
  "language_info": {
   "codemirror_mode": {
    "name": "ipython",
    "version": 3
   },
   "file_extension": ".py",
   "mimetype": "text/x-python",
   "name": "python",
   "nbconvert_exporter": "python",
   "pygments_lexer": "ipython3",
   "version": "3.9.13"
  }
 },
 "nbformat": 4,
 "nbformat_minor": 4
}
