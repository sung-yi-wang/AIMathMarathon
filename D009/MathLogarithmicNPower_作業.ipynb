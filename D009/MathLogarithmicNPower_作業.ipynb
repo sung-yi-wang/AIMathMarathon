{
 "cells": [
  {
   "cell_type": "markdown",
   "metadata": {
    "id": "9d4fzWGcXjQD"
   },
   "source": [
    "此作業之目的是增加同學對自然對數Logarithmic 和指數 power 函數的認識\n",
    "\n",
    "1. 以exp(a) 回傳 e 的 3次冪.\n",
    "\n",
    "2. 以log(a, b)回傳以 10為底,100 的對數"
   ]
  },
  {
   "cell_type": "code",
   "execution_count": 1,
   "metadata": {
    "colab": {
     "base_uri": "https://localhost:8080/"
    },
    "executionInfo": {
     "elapsed": 20,
     "status": "ok",
     "timestamp": 1635586966656,
     "user": {
      "displayName": "Paul Chen",
      "photoUrl": "https://lh3.googleusercontent.com/a/default-user=s64",
      "userId": "15113937160468943492"
     },
     "user_tz": -480
    },
    "id": "5GwKcZeoWa2R",
    "outputId": "abe4d87f-516c-4e61-91a8-3f7163a7a0fc"
   },
   "outputs": [
    {
     "name": "stdout",
     "output_type": "stream",
     "text": [
      "The e**3 value is : 20.085536923187668\n",
      "The value of log 100 with base 10 is : 2.0\n"
     ]
    }
   ],
   "source": [
    "# 以 Python 程式碼展示\n",
    "# exp() 和 log() 函數\n",
    "\n",
    "# 載入 \"math\" 數學程式庫\n",
    "import math\n",
    "\n",
    "# 回傳 e 的 3次冪\n",
    "print(f'The e**3 value is : {math.exp(3)}')\n",
    "\n",
    "# 回傳 10,100 的對數\n",
    "print(f'The value of log 100 with base 10 is : {math.log(100, 10)}')"
   ]
  },
  {
   "cell_type": "markdown",
   "metadata": {
    "id": "83HobpGbXbYy"
   },
   "source": [
    "3. 以log2(a) 回傳以2為底的64的對數. \n",
    "\n",
    "4. 以log10(a) 回傳以10為底的1000的對數."
   ]
  },
  {
   "cell_type": "code",
   "execution_count": 2,
   "metadata": {
    "colab": {
     "base_uri": "https://localhost:8080/"
    },
    "executionInfo": {
     "elapsed": 297,
     "status": "ok",
     "timestamp": 1635587046253,
     "user": {
      "displayName": "Paul Chen",
      "photoUrl": "https://lh3.googleusercontent.com/a/default-user=s64",
      "userId": "15113937160468943492"
     },
     "user_tz": -480
    },
    "id": "9LaZXSf8XHYS",
    "outputId": "5c49297a-65b5-48ab-c3ac-879e97e2695b"
   },
   "outputs": [
    {
     "name": "stdout",
     "output_type": "stream",
     "text": [
      "The value of log2 of 64 is : 6.0\n",
      "The value of log10 of 1000 is : 3.0\n"
     ]
    }
   ],
   "source": [
    "# 以 Python 程式碼展示\n",
    "# log2() 和 log10()\n",
    "\n",
    "# 載入 \"math\" 數學程式庫\n",
    "import math\n",
    "\n",
    "# returning the log2 of 64\n",
    "print(f'The value of log2 of 64 is : {math.log2(64)}')\n",
    "\n",
    "# returning the log10 of 1000\n",
    "print(f'The value of log10 of 1000 is : {math.log10(1000)}')"
   ]
  },
  {
   "cell_type": "markdown",
   "metadata": {
    "id": "rXvGunyJXZdi"
   },
   "source": [
    "5. 以pow(a, b) 計算 4 的 3 次方 (4**3).\n",
    "\n",
    "6. 以sqrt()  回傳49的平方根值."
   ]
  },
  {
   "cell_type": "code",
   "execution_count": 3,
   "metadata": {
    "colab": {
     "base_uri": "https://localhost:8080/"
    },
    "executionInfo": {
     "elapsed": 303,
     "status": "ok",
     "timestamp": 1635587250357,
     "user": {
      "displayName": "Paul Chen",
      "photoUrl": "https://lh3.googleusercontent.com/a/default-user=s64",
      "userId": "15113937160468943492"
     },
     "user_tz": -480
    },
    "id": "TTB2OhQSXO3U",
    "outputId": "8feb7d72-594e-4b32-fc73-db380edb5e87"
   },
   "outputs": [
    {
     "name": "stdout",
     "output_type": "stream",
     "text": [
      "The value of 4 to the power 3 is : 64.0\n",
      "The value of square root of 49 : 7.0\n"
     ]
    }
   ],
   "source": [
    "# 以 Python 程式碼展示\n",
    "# pow() 和 sqrt()\n",
    "\n",
    "# 載入 \"math\" 數學程式庫\n",
    "import math\n",
    "\n",
    "# returning the value of 4**3\n",
    "print(f'The value of 4 to the power 3 is : {math.pow(4, 3)}')\n",
    "\n",
    "# returning the square root of 49\n",
    "print(f'The value of square root of 49 : {math.sqrt(49)}')"
   ]
  },
  {
   "cell_type": "code",
   "execution_count": null,
   "metadata": {},
   "outputs": [],
   "source": []
  }
 ],
 "metadata": {
  "colab": {
   "authorship_tag": "ABX9TyNQIX2eZISCpooX8cy1PvDe",
   "name": "MathLogarithmicNPower_作業.ipynb",
   "provenance": [
    {
     "file_id": "1Sx9MLZouXbjuqahMyT5soLMLjK4cYRHT",
     "timestamp": 1635587378163
    },
    {
     "file_id": "1uh7JvNTrbe8hmYE9t5BsOBWmp0OM957R",
     "timestamp": 1635586616748
    }
   ]
  },
  "kernelspec": {
   "display_name": "Python 3 (ipykernel)",
   "language": "python",
   "name": "python3"
  },
  "language_info": {
   "codemirror_mode": {
    "name": "ipython",
    "version": 3
   },
   "file_extension": ".py",
   "mimetype": "text/x-python",
   "name": "python",
   "nbconvert_exporter": "python",
   "pygments_lexer": "ipython3",
   "version": "3.9.13"
  }
 },
 "nbformat": 4,
 "nbformat_minor": 1
}
